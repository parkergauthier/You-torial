{
 "cells": [
  {
   "cell_type": "code",
   "execution_count": 64,
   "metadata": {},
   "outputs": [
    {
     "data": {
      "text/plain": [
       "'/Users/amalkadri/Library/DBeaverData/workspace6/General/Scripts/create_combined_distinct_view.sql'"
      ]
     },
     "execution_count": 64,
     "metadata": {},
     "output_type": "execute_result"
    }
   ],
   "source": [
    "import pandas as pd\n",
    "import sqlalchemy\n",
    "import sklearn\n",
    "import psycopg2\n",
    "from sklearn.preprocessing import StandardScaler\n",
    "from sklearn.decomposition import PCA\n",
    "#import numpy as np\n",
    "conn_string = \"redacted\"\n",
    "engine = sqlalchemy.create_engine(conn_string)\n",
    "sql_query = \"\"\"\n",
    "select\n",
    "\ttotal_vids.\"videoID\",\n",
    "\tcomplete_videos.title ,\n",
    "\tcomplete_videos.\"channelID\" ,\n",
    "\ttotal_vids.views_count ,\n",
    "\ttotal_vids.likes ,\n",
    "\ttotal_vids.comments_ ,\n",
    "\ttotal_vids.length_ ,\n",
    "\ttotal_vids.like_ratios ,\n",
    "\ttotal_vids.comment_ratio ,\n",
    "\ttotal_vids.polarity ,\n",
    "\ttotal_vids.subjectivity\n",
    "from\n",
    "\ttotal_vids\n",
    "left join complete_videos on\n",
    "\ttotal_vids.\"videoID\" = complete_videos.\"videoID\"\n",
    "\"\"\"\n",
    "'/Users/amalkadri/Library/DBeaverData/workspace6/General/Scripts/create_combined_distinct_view.sql'"
   ]
  },
  {
   "cell_type": "code",
   "execution_count": 65,
   "metadata": {},
   "outputs": [],
   "source": [
    "stats_table = pd.read_sql(sql_query, engine)\n"
   ]
  },
  {
   "cell_type": "code",
   "execution_count": 66,
   "metadata": {},
   "outputs": [
    {
     "data": {
      "text/html": [
       "<div>\n",
       "<style scoped>\n",
       "    .dataframe tbody tr th:only-of-type {\n",
       "        vertical-align: middle;\n",
       "    }\n",
       "\n",
       "    .dataframe tbody tr th {\n",
       "        vertical-align: top;\n",
       "    }\n",
       "\n",
       "    .dataframe thead th {\n",
       "        text-align: right;\n",
       "    }\n",
       "</style>\n",
       "<table border=\"1\" class=\"dataframe\">\n",
       "  <thead>\n",
       "    <tr style=\"text-align: right;\">\n",
       "      <th></th>\n",
       "      <th>videoID</th>\n",
       "      <th>title</th>\n",
       "      <th>channelID</th>\n",
       "      <th>views_count</th>\n",
       "      <th>likes</th>\n",
       "      <th>comments_</th>\n",
       "      <th>length_</th>\n",
       "      <th>like_ratios</th>\n",
       "      <th>comment_ratio</th>\n",
       "      <th>polarity</th>\n",
       "      <th>subjectivity</th>\n",
       "    </tr>\n",
       "  </thead>\n",
       "  <tbody>\n",
       "    <tr>\n",
       "      <th>0</th>\n",
       "      <td>000rTnCPOT4</td>\n",
       "      <td>Thai SELECT x Pick Thai</td>\n",
       "      <td>UCXYhBT2wYVulWxoU5zJVICQ</td>\n",
       "      <td>155.0</td>\n",
       "      <td>5.0</td>\n",
       "      <td>1.0</td>\n",
       "      <td>0 days 00:01:22</td>\n",
       "      <td>0.032258</td>\n",
       "      <td>0.006452</td>\n",
       "      <td>0.5</td>\n",
       "      <td>0.5</td>\n",
       "    </tr>\n",
       "    <tr>\n",
       "      <th>1</th>\n",
       "      <td>00ecIrftJCQ</td>\n",
       "      <td>Hide and seek chase against the last SS(shadow...</td>\n",
       "      <td>UC7fPqLmUcavrqQJ04qwBLTg</td>\n",
       "      <td>10.0</td>\n",
       "      <td>1.0</td>\n",
       "      <td>0.0</td>\n",
       "      <td>0 days 00:03:26</td>\n",
       "      <td>0.100000</td>\n",
       "      <td>0.000000</td>\n",
       "      <td>0.0</td>\n",
       "      <td>0.0</td>\n",
       "    </tr>\n",
       "  </tbody>\n",
       "</table>\n",
       "</div>"
      ],
      "text/plain": [
       "       videoID                                              title  \\\n",
       "0  000rTnCPOT4                            Thai SELECT x Pick Thai   \n",
       "1  00ecIrftJCQ  Hide and seek chase against the last SS(shadow...   \n",
       "\n",
       "                  channelID  views_count  likes  comments_         length_  \\\n",
       "0  UCXYhBT2wYVulWxoU5zJVICQ        155.0    5.0        1.0 0 days 00:01:22   \n",
       "1  UC7fPqLmUcavrqQJ04qwBLTg         10.0    1.0        0.0 0 days 00:03:26   \n",
       "\n",
       "   like_ratios  comment_ratio  polarity  subjectivity  \n",
       "0     0.032258       0.006452       0.5           0.5  \n",
       "1     0.100000       0.000000       0.0           0.0  "
      ]
     },
     "execution_count": 66,
     "metadata": {},
     "output_type": "execute_result"
    }
   ],
   "source": [
    "#stats_table[(stats_table['videoID'])]\n",
    "stats_table.head(2)\n"
   ]
  },
  {
   "cell_type": "code",
   "execution_count": 67,
   "metadata": {},
   "outputs": [],
   "source": [
    "\n",
    "features = ['views_count','likes','comments_','like_ratios','comment_ratio','polarity','subjectivity']\n",
    "id_frame = ['videoID','title','channelID']\n",
    "# Separating out the features\n",
    "x = stats_table.loc[:, features].values\n",
    "# Separating out the target\n",
    "y = stats_table.loc[:,id_frame].values\n",
    "# Standardizing the features\n",
    "x = StandardScaler().fit_transform(x)"
   ]
  },
  {
   "cell_type": "code",
   "execution_count": 68,
   "metadata": {},
   "outputs": [],
   "source": [
    "\n",
    "pca = PCA(n_components=1)\n",
    "principalComponents = pca.fit_transform(x)\n",
    "principalDf = pd.DataFrame(data = principalComponents\n",
    "             , columns = ['PC1'])"
   ]
  },
  {
   "cell_type": "code",
   "execution_count": 69,
   "metadata": {},
   "outputs": [],
   "source": [
    "finalDf = pd.concat([stats_table[['videoID','title','channelID']], principalDf], axis = 1).sort_values(by='PC1',ascending=False)"
   ]
  },
  {
   "cell_type": "code",
   "execution_count": 70,
   "metadata": {},
   "outputs": [
    {
     "data": {
      "text/html": [
       "<div>\n",
       "<style scoped>\n",
       "    .dataframe tbody tr th:only-of-type {\n",
       "        vertical-align: middle;\n",
       "    }\n",
       "\n",
       "    .dataframe tbody tr th {\n",
       "        vertical-align: top;\n",
       "    }\n",
       "\n",
       "    .dataframe thead th {\n",
       "        text-align: right;\n",
       "    }\n",
       "</style>\n",
       "<table border=\"1\" class=\"dataframe\">\n",
       "  <thead>\n",
       "    <tr style=\"text-align: right;\">\n",
       "      <th></th>\n",
       "      <th>videoID</th>\n",
       "      <th>title</th>\n",
       "      <th>channelID</th>\n",
       "      <th>PC1</th>\n",
       "    </tr>\n",
       "  </thead>\n",
       "  <tbody>\n",
       "    <tr>\n",
       "      <th>13213</th>\n",
       "      <td>o2PiIZjHCJk</td>\n",
       "      <td>Edible lipstick! || SMART PARENTING HACKS AND ...</td>\n",
       "      <td>UCBBZ7No0AzEJ3qiatjSa-mg</td>\n",
       "      <td>105.838037</td>\n",
       "    </tr>\n",
       "    <tr>\n",
       "      <th>9751</th>\n",
       "      <td>J1UcTPvVdhg</td>\n",
       "      <td>Building A Magical Mini Apartment For Queen El...</td>\n",
       "      <td>UCw5VDXH8up3pKUppIvcstNQ</td>\n",
       "      <td>84.205223</td>\n",
       "    </tr>\n",
       "    <tr>\n",
       "      <th>21737</th>\n",
       "      <td>1GxbXe80iXw</td>\n",
       "      <td>Build The Most Temple  Swimming Pools Underground</td>\n",
       "      <td>UCj6VfZEQTxX8Tp2My5L9Ykw</td>\n",
       "      <td>77.048688</td>\n",
       "    </tr>\n",
       "    <tr>\n",
       "      <th>2444</th>\n",
       "      <td>79vZrthC_og</td>\n",
       "      <td>Beef Stir Fry and Fried Rice | MINIATURE COOKI...</td>\n",
       "      <td>UCbtgvc9joz_6xBr4OLoy0iA</td>\n",
       "      <td>74.401860</td>\n",
       "    </tr>\n",
       "    <tr>\n",
       "      <th>36228</th>\n",
       "      <td>qrAOQgfSFu0</td>\n",
       "      <td>I tried to design the perfect legging… #shorts</td>\n",
       "      <td>UCIJwWYOfsCfz6PjxbONYXSg</td>\n",
       "      <td>50.380292</td>\n",
       "    </tr>\n",
       "    <tr>\n",
       "      <th>29422</th>\n",
       "      <td>guNRTo1k6OQ</td>\n",
       "      <td>TUTORIAL: PERFECT COUPLE GAME || MOBILE GAME A...</td>\n",
       "      <td>UCBBZ7No0AzEJ3qiatjSa-mg</td>\n",
       "      <td>48.718028</td>\n",
       "    </tr>\n",
       "  </tbody>\n",
       "</table>\n",
       "</div>"
      ],
      "text/plain": [
       "           videoID                                              title  \\\n",
       "13213  o2PiIZjHCJk  Edible lipstick! || SMART PARENTING HACKS AND ...   \n",
       "9751   J1UcTPvVdhg  Building A Magical Mini Apartment For Queen El...   \n",
       "21737  1GxbXe80iXw  Build The Most Temple  Swimming Pools Underground   \n",
       "2444   79vZrthC_og  Beef Stir Fry and Fried Rice | MINIATURE COOKI...   \n",
       "36228  qrAOQgfSFu0     I tried to design the perfect legging… #shorts   \n",
       "29422  guNRTo1k6OQ  TUTORIAL: PERFECT COUPLE GAME || MOBILE GAME A...   \n",
       "\n",
       "                      channelID         PC1  \n",
       "13213  UCBBZ7No0AzEJ3qiatjSa-mg  105.838037  \n",
       "9751   UCw5VDXH8up3pKUppIvcstNQ   84.205223  \n",
       "21737  UCj6VfZEQTxX8Tp2My5L9Ykw   77.048688  \n",
       "2444   UCbtgvc9joz_6xBr4OLoy0iA   74.401860  \n",
       "36228  UCIJwWYOfsCfz6PjxbONYXSg   50.380292  \n",
       "29422  UCBBZ7No0AzEJ3qiatjSa-mg   48.718028  "
      ]
     },
     "execution_count": 70,
     "metadata": {},
     "output_type": "execute_result"
    }
   ],
   "source": [
    "finalDf.head(6)"
   ]
  },
  {
   "cell_type": "code",
   "execution_count": 100,
   "metadata": {},
   "outputs": [],
   "source": [
    "import spacy\n",
    "from spacytextblob.spacytextblob import SpacyTextBlob\n",
    "\n",
    "egg = 'How to fry an egg'\n",
    "'How to Salsa'\n",
    "'Draw Sonic the Hedgehog'\n",
    "'How to Teach Python'\n",
    "'How to change your oil'\n",
    "\n",
    "egg_list = egg.lower().replace(' ','&')\n",
    "egg_list\n",
    "\n",
    "def clean_search_input(input_str):\n",
    "    clean_search = input_str.lower().replace(' ','&')\n",
    "    return clean_search\n",
    "\n",
    "\n"
   ]
  },
  {
   "cell_type": "code",
   "execution_count": 113,
   "metadata": {},
   "outputs": [
    {
     "data": {
      "text/plain": [
       "'select\\n\\ttotal_vids.\"videoID\",\\n\\tcomplete_videos.title,\\n\\tcomplete_videos.\"channelID\",\\n\\ttotal_vids.views_count,\\n\\ttotal_vids.likes,\\n\\ttotal_vids.comments_,\\n\\ttotal_vids.length_,\\n\\ttotal_vids.like_ratios,\\n\\ttotal_vids.comment_ratio,\\n\\ttotal_vids.polarity,\\n\\ttotal_vids.subjectivity\\n\\tfrom\\n\\t\\ttotal_vids\\n\\tleft join complete_videos on\\n\\t\\ttotal_vids.\"videoID\" = complete_videos.\"videoID\"\\n\\twhere total_vids.\"videoID\" in (\\n\\tselect \"videoID\" from complete_videos \\n\\twhere to_tsvector(title) @@ to_tsquery(\\'how&to&be&karlo&vlahek\\'))'"
      ]
     },
     "execution_count": 113,
     "metadata": {},
     "output_type": "execute_result"
    }
   ],
   "source": [
    "#sonic the hedgehog\n",
    "from sqlalchemy import create_engine, text\n",
    "conn_string = # \"redacted\"\n",
    "engine = sqlalchemy.create_engine(conn_string)\n",
    "sonic_query = '''select\n",
    "\ttotal_vids.\"videoID\",\n",
    "\tcomplete_videos.title,\n",
    "\tcomplete_videos.\"channelID\",\n",
    "\ttotal_vids.views_count,\n",
    "\ttotal_vids.likes,\n",
    "\ttotal_vids.comments_,\n",
    "\ttotal_vids.length_,\n",
    "\ttotal_vids.like_ratios,\n",
    "\ttotal_vids.comment_ratio,\n",
    "\ttotal_vids.polarity,\n",
    "\ttotal_vids.subjectivity\n",
    "from\n",
    "\ttotal_vids\n",
    "left join complete_videos on\n",
    "\ttotal_vids.\"videoID\" = complete_videos.\"videoID\"\n",
    "where total_vids.\"videoID\" in (select \"videoID\" from complete_videos where title like '% Sonic %' and title like '% draw %');\n",
    "'''\n",
    "python_query = \"\"\"select\n",
    "\ttotal_vids.\"videoID\",\n",
    "\tcomplete_videos.title ,\n",
    "\tcomplete_videos.\"channelID\" ,\n",
    "\ttotal_vids.views_count ,\n",
    "\ttotal_vids.likes ,\n",
    "\ttotal_vids.comments_ ,\n",
    "\ttotal_vids.length_ ,\n",
    "\ttotal_vids.like_ratios ,\n",
    "\ttotal_vids.comment_ratio ,\n",
    "\ttotal_vids.polarity ,\n",
    "\ttotal_vids.subjectivity\n",
    "from\n",
    "\ttotal_vids\n",
    "left join complete_videos on\n",
    "\ttotal_vids.\"videoID\" = complete_videos.\"videoID\"\n",
    "where\n",
    "\ttotal_vids.\"videoID\" in\n",
    "(\n",
    "\tselect\n",
    "\t\t\"videoID\"\n",
    "\tfrom\n",
    "\t\tcomplete_videos\n",
    "\twhere\n",
    "\t\ttitle like '%python%'\n",
    "\t\tor title like '%Python%'\n",
    ")\"\"\"\n",
    "\n",
    "salsa_query = \"\"\"select\n",
    "\ttotal_vids.\"videoID\",\n",
    "\tcomplete_videos.title ,\n",
    "\tcomplete_videos.\"channelID\" ,\n",
    "\ttotal_vids.views_count ,\n",
    "\ttotal_vids.likes ,\n",
    "\ttotal_vids.comments_ ,\n",
    "\ttotal_vids.length_ ,\n",
    "\ttotal_vids.like_ratios ,\n",
    "\ttotal_vids.comment_ratio ,\n",
    "\ttotal_vids.polarity ,\n",
    "\ttotal_vids.subjectivity\n",
    "from\n",
    "\ttotal_vids\n",
    "left join complete_videos on\n",
    "\ttotal_vids.\"videoID\" = complete_videos.\"videoID\"\n",
    "where\n",
    "\ttotal_vids.\"videoID\" in\n",
    "(\n",
    "\tselect\n",
    "\t\t\"videoID\"\n",
    "\tfrom\n",
    "\t\tcomplete_videos\n",
    "\twhere title like '%dance%'\n",
    "\t\tand (title like '%Salsa%'\n",
    "\t\tor title like '%salsa%')\n",
    ")\"\"\"\n",
    "search_string = \"How to draw Sonic the Hedgehog\"\n",
    "search_term = search_string.lower().replace(' ','&')\n",
    "\n",
    "badassmuthafukingquery = f\"\"\"select\n",
    "\ttotal_vids.\"videoID\",\n",
    "\tcomplete_videos.title,\n",
    "\tcomplete_videos.\"channelID\",\n",
    "\ttotal_vids.views_count,\n",
    "\ttotal_vids.likes,\n",
    "\ttotal_vids.comments_,\n",
    "\ttotal_vids.length_,\n",
    "\ttotal_vids.like_ratios,\n",
    "\ttotal_vids.comment_ratio,\n",
    "\ttotal_vids.polarity,\n",
    "\ttotal_vids.subjectivity\n",
    "from\n",
    "\ttotal_vids\n",
    "left join complete_videos on\n",
    "\ttotal_vids.\"videoID\" = complete_videos.\"videoID\"\n",
    "where total_vids.\"videoID\" in (\n",
    "select \"videoID\" from complete_videos \n",
    "where to_tsvector(title) @@ to_tsquery({clean_search_input(search_string)})\"\"\"\n",
    "\n",
    "def define_query(search_input):\n",
    "\tbigger_query = f\"\"\"select\n",
    "\ttotal_vids.\"videoID\",\n",
    "\tcomplete_videos.title,\n",
    "\tcomplete_videos.\"channelID\",\n",
    "\ttotal_vids.views_count,\n",
    "\ttotal_vids.likes,\n",
    "\ttotal_vids.comments_,\n",
    "\ttotal_vids.length_,\n",
    "\ttotal_vids.like_ratios,\n",
    "\ttotal_vids.comment_ratio,\n",
    "\ttotal_vids.polarity,\n",
    "\ttotal_vids.subjectivity\n",
    "\tfrom\n",
    "\t\ttotal_vids\n",
    "\tleft join complete_videos on\n",
    "\t\ttotal_vids.\"videoID\" = complete_videos.\"videoID\"\n",
    "\twhere total_vids.\"videoID\" in (\n",
    "\tselect \"videoID\" from complete_videos \n",
    "\twhere to_tsvector(title) @@ to_tsquery('{clean_search_input(search_input)}'))\"\"\"\n",
    "\treturn bigger_query\n",
    "\n",
    "define_query(\"How to be Karlo Vlahek\")\n"
   ]
  },
  {
   "cell_type": "code",
   "execution_count": 110,
   "metadata": {},
   "outputs": [
    {
     "data": {
      "text/plain": [
       "'select\\n\\ttotal_vids.\"videoID\",\\n\\tcomplete_videos.title,\\n\\tcomplete_videos.\"channelID\",\\n\\ttotal_vids.views_count,\\n\\ttotal_vids.likes,\\n\\ttotal_vids.comments_,\\n\\ttotal_vids.length_,\\n\\ttotal_vids.like_ratios,\\n\\ttotal_vids.comment_ratio,\\n\\ttotal_vids.polarity,\\n\\ttotal_vids.subjectivity\\n\\tfrom\\n\\t\\ttotal_vids\\n\\tleft join complete_videos on\\n\\t\\ttotal_vids.\"videoID\" = complete_videos.\"videoID\"\\n\\twhere total_vids.\"videoID\" in (\\n\\tselect \"videoID\" from complete_videos \\n\\twhere to_tsvector(title) @@ to_tsquery(how&to&play&the&bass&guitar))'"
      ]
     },
     "execution_count": 110,
     "metadata": {},
     "output_type": "execute_result"
    }
   ],
   "source": [
    "input_query = 'How to play the bass guitar'\n",
    "sql_query = define_query(input_query)\n",
    "sql_query\n"
   ]
  },
  {
   "cell_type": "code",
   "execution_count": 118,
   "metadata": {},
   "outputs": [
    {
     "data": {
      "text/plain": [
       "['TPP8Sioqpt4',\n",
       " 'AYuxMhGDxOU',\n",
       " 'e1yLdutH2Gg',\n",
       " 'x3ZMvv_AWWU',\n",
       " 'kaQpp_-ppW0',\n",
       " 'DDNN-XzwcVk']"
      ]
     },
     "execution_count": 118,
     "metadata": {},
     "output_type": "execute_result"
    }
   ],
   "source": [
    "input_query = 'How to play the Guitar'\n",
    "sql_query = define_query(input_query)\n",
    "\n",
    "stats_table = pd.read_sql(text(sql_query), con=engine)\n",
    "features = ['views_count','likes','comments_','like_ratios','comment_ratio','polarity','subjectivity']\n",
    "id_frame = ['videoID','title','channelID']\n",
    "# Separating out the features\n",
    "x = stats_table.loc[:, features].values\n",
    "# Separating out the target\n",
    "y = stats_table.loc[:,id_frame].values\n",
    "# Standardizing the features\n",
    "x = StandardScaler().fit_transform(x)\n",
    "pca = PCA(n_components=1)\n",
    "principalComponents = pca.fit_transform(x)\n",
    "principalDf = pd.DataFrame(data = principalComponents, columns = ['PC1'])\n",
    "finalDf = pd.concat([stats_table[['videoID','title','channelID']], principalDf], axis = 1).sort_values(by='PC1',ascending=False)\n",
    "id_list = finalDf['videoID'].head(6).to_list()\n",
    "id_list"
   ]
  },
  {
   "cell_type": "code",
   "execution_count": null,
   "metadata": {},
   "outputs": [],
   "source": []
  }
 ],
 "metadata": {
  "interpreter": {
   "hash": "aee8b7b246df8f9039afb4144a1f6fd8d2ca17a180786b69acc140d282b71a49"
  },
  "kernelspec": {
   "display_name": "Python 3.10.2 64-bit",
   "language": "python",
   "name": "python3"
  },
  "language_info": {
   "codemirror_mode": {
    "name": "ipython",
    "version": 3
   },
   "file_extension": ".py",
   "mimetype": "text/x-python",
   "name": "python",
   "nbconvert_exporter": "python",
   "pygments_lexer": "ipython3",
   "version": "3.10.2"
  },
  "orig_nbformat": 4
 },
 "nbformat": 4,
 "nbformat_minor": 2
}
