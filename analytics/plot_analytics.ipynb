{
 "cells": [
  {
   "cell_type": "code",
   "execution_count": null,
   "id": "d91eb952-a81c-4aa2-9220-8da2c582c5e6",
   "metadata": {},
   "outputs": [],
   "source": [
    "# read data from PostgreSQL\n",
    "\n",
    "import psycopg2\n",
    "import pandas as pd\n",
    "# connect to the database\n",
    "conn = psycopg2.connect(#database = 'redacted',user = 'redacted',password = 'redacted', host = 'redacted', port ='redacted' )\n",
    "\n",
    "curs = conn.cursor()\n",
    "\n",
    "# the SQL code which select data from the table\n",
    "sql_a = 'select * from analytics'\n",
    "\n",
    "# execute the SQL code in database\n",
    "curs.execute(sql_a)\n",
    "\n",
    "\n",
    "\n",
    "# obtain the data\n",
    "data_analytics = curs.fetchall()\n",
    "\n",
    "# close\n",
    "curs.close()\n",
    "\n",
    "pd.DataFrame(data_analytics)\n",
    "# data_analytics.columns =list('')\n",
    "data_analytics = pd.DataFrame(data_analytics, columns=['videoID','views_count','likes',\n",
    "'comments_','length_','like_ratios','comment_ratio','polarity','subjectivity'])\n",
    "# df = pd.DataFrame(my_list, columns = ['Names'])\n",
    "print(data_analytics)        "
   ]
  },
  {
   "cell_type": "code",
   "execution_count": null,
   "id": "89269a6d-f5db-477b-800d-cba10cb521bc",
   "metadata": {},
   "outputs": [],
   "source": [
    "# import the module for plot \n",
    "# install module: pip3 install matplotlib\n",
    "# import matplotlib.pyplot as plt\n",
    "# import numpy as np \n",
    "# plt.plot([1,2,3,4])\n",
    "# plt.show"
   ]
  },
  {
   "cell_type": "code",
   "execution_count": null,
   "id": "9f6ca5e8-cd0b-44a1-a6a8-6499d2e171d1",
   "metadata": {},
   "outputs": [],
   "source": [
    "# scatter plot of views vs likes\n",
    "plt.scatter(data_analytics.iloc[:,1],data_analytics.iloc[:,2],)\n",
    "plt.title('views_count vs likes')\n",
    "plt.xlabel('views_count')\n",
    "plt.ylabel('likes')\n",
    "plt.show()\n",
    "\n",
    "# X_train.iloc[:,:]"
   ]
  },
  {
   "cell_type": "code",
   "execution_count": null,
   "id": "e4f01142-6e60-4c0a-9b9d-053d9ed1b5ed",
   "metadata": {},
   "outputs": [],
   "source": [
    "# scatter plot of views vs comments\n",
    "plt.scatter(data_analytics.iloc[:,1],data_analytics.iloc[:,3],)\n",
    "plt.title('views_count vs comments')\n",
    "plt.xlabel('views_count')\n",
    "plt.ylabel('comments')\n",
    "plt.show()"
   ]
  },
  {
   "cell_type": "code",
   "execution_count": null,
   "id": "630f8047-6538-47f6-89c5-5b8e0e3ae80f",
   "metadata": {},
   "outputs": [],
   "source": [
    "# scatter plot of comments vs likes\n",
    "plt.scatter(data_analytics.iloc[:,3],data_analytics.iloc[:,2],)\n",
    "plt.title('comments vs likes ')\n",
    "plt.xlabel('comments')\n",
    "plt.ylabel('likes')\n",
    "plt.show()"
   ]
  },
  {
   "cell_type": "code",
   "execution_count": 29,
   "id": "b7c75f8c-7031-423f-9789-cd146c2e2c69",
   "metadata": {},
   "outputs": [
    {
     "ename": "AttributeError",
     "evalue": "'numpy.ndarray' object has no attribute 'to_numpy'",
     "output_type": "error",
     "traceback": [
      "\u001b[0;31m---------------------------------------------------------------------------\u001b[0m",
      "\u001b[0;31mAttributeError\u001b[0m                            Traceback (most recent call last)",
      "\u001b[0;32m/var/folders/jz/39f2vnnn5z9bn9mvymy24tcw0000gn/T/ipykernel_16237/2214756111.py\u001b[0m in \u001b[0;36m<module>\u001b[0;34m\u001b[0m\n\u001b[1;32m      2\u001b[0m \u001b[0;32mimport\u001b[0m \u001b[0mnumpy\u001b[0m \u001b[0;32mas\u001b[0m \u001b[0mnp\u001b[0m\u001b[0;34m\u001b[0m\u001b[0;34m\u001b[0m\u001b[0m\n\u001b[1;32m      3\u001b[0m \u001b[0;31m# dataframe to numpy\u001b[0m\u001b[0;34m\u001b[0m\u001b[0;34m\u001b[0m\u001b[0m\n\u001b[0;32m----> 4\u001b[0;31m \u001b[0mnmp\u001b[0m \u001b[0;34m=\u001b[0m \u001b[0mdata_analytics\u001b[0m\u001b[0;34m.\u001b[0m\u001b[0mto_numpy\u001b[0m\u001b[0;34m(\u001b[0m\u001b[0;34m)\u001b[0m\u001b[0;34m\u001b[0m\u001b[0;34m\u001b[0m\u001b[0m\n\u001b[0m\u001b[1;32m      5\u001b[0m \u001b[0mprint\u001b[0m\u001b[0;34m(\u001b[0m\u001b[0mnmp\u001b[0m\u001b[0;34m)\u001b[0m\u001b[0;34m\u001b[0m\u001b[0;34m\u001b[0m\u001b[0m\n\u001b[1;32m      6\u001b[0m \u001b[0;31m# corr = np.corrcoef(data_analytics)[1,2]\u001b[0m\u001b[0;34m\u001b[0m\u001b[0;34m\u001b[0m\u001b[0m\n",
      "\u001b[0;31mAttributeError\u001b[0m: 'numpy.ndarray' object has no attribute 'to_numpy'"
     ]
    }
   ],
   "source": [
    "# the correaltion of view_count and likes\n",
    "import numpy as np\n",
    "# dataframe to numpy\n",
    "data_analytics = data_analytics.to_numpy()\n",
    "print(data_analytics)\n",
    "# corr = np.corrcoef(data_analytics)[1,2]"
   ]
  }
 ],
 "metadata": {
  "kernelspec": {
   "display_name": "Python 3 (ipykernel)",
   "language": "python",
   "name": "python3"
  },
  "language_info": {
   "codemirror_mode": {
    "name": "ipython",
    "version": 3
   },
   "file_extension": ".py",
   "mimetype": "text/x-python",
   "name": "python",
   "nbconvert_exporter": "python",
   "pygments_lexer": "ipython3",
   "version": "3.9.7"
  }
 },
 "nbformat": 4,
 "nbformat_minor": 5
}
